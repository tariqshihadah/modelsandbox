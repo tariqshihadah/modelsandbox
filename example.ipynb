{
 "cells": [
  {
   "cell_type": "code",
   "execution_count": 1,
   "id": "eae22044",
   "metadata": {},
   "outputs": [],
   "source": [
    "from modelsandbox import Model\n",
    "\n",
    "# WITH APPROACH\n",
    "model = Model()\n",
    "\n",
    "# SPF Calculations\n",
    "with model.cursor.add_layer():\n",
    "    model.cursor.add_schema({\n",
    "        \"label\": \"schema1\",\n",
    "        \"params\": [\"x\"],\n",
    "        \"actions\": [\"get\"],\n",
    "        \"data\": {\n",
    "            0: 0,\n",
    "            1: 10,\n",
    "            2: 20\n",
    "        }\n",
    "    })\n",
    "\n",
    "    # SPF 1\n",
    "    with model.cursor.add_sequence():\n",
    "        model.cursor.add_schema({\n",
    "            \"label\": \"schema2\",\n",
    "            \"params\": [\"x\"],\n",
    "            \"actions\": [\"get\"],\n",
    "            \"data\": {\n",
    "                0: {\"a\": 0, \"b\": 0, \"c\": 0, \"d\": 0},\n",
    "                1: {\"a\": 10, \"b\": 10, \"c\": 10, \"d\": 10},\n",
    "                2: {\"a\": 20, \"b\": 20, \"c\": 20, \"d\": 20}\n",
    "            }\n",
    "        }, hidden=True)\n",
    "        @model.cursor.add_wrapped(tags='af')\n",
    "        def process(a, b, c, d):\n",
    "            return a * b + c / d\n",
    "        \n",
    "    # SPF 2\n",
    "    with model.cursor.add_sequence():\n",
    "        model.cursor.add_schema({\n",
    "            \"label\": \"schema3\",\n",
    "            \"params\": [\"x\"],\n",
    "            \"actions\": [\"get\"],\n",
    "            \"data\": {\n",
    "                0: {\"a\": 0, \"b\": 0, \"c\": 0, \"d\": 0},\n",
    "                1: {\"a\": 10, \"b\": 10, \"c\": 10, \"d\": 10},\n",
    "                2: {\"a\": 20, \"b\": 20, \"c\": 20, \"d\": 20}\n",
    "            }\n",
    "        }, hidden=True)\n",
    "        @model.cursor.add_wrapped(tags='af')\n",
    "        def process(a, b, c, d):\n",
    "            return a * b + c / d\n",
    "\n",
    "# AF Calculations\n",
    "with model.cursor.add_layer() as layer:\n",
    "\n",
    "    # AF 1\n",
    "    @model.cursor.add_wrapped()\n",
    "    def af_lane_width(lane_width):\n",
    "        return lane_width / 12"
   ]
  },
  {
   "cell_type": "code",
   "execution_count": 3,
   "id": "19660b10",
   "metadata": {},
   "outputs": [
    {
     "data": {
      "text/plain": [
       "{'af': [<modelsandbox.model.processors.FunctionProcessor at 0x7f288853b400>,\n",
       "  <modelsandbox.model.processors.FunctionProcessor at 0x7f288853b2b0>]}"
      ]
     },
     "execution_count": 3,
     "metadata": {},
     "output_type": "execute_result"
    }
   ],
   "source": [
    "model.tagged"
   ]
  },
  {
   "cell_type": "code",
   "execution_count": 8,
   "id": "3ad8af3b",
   "metadata": {},
   "outputs": [
    {
     "data": {
      "text/plain": [
       "['lane_width', 'x']"
      ]
     },
     "execution_count": 8,
     "metadata": {},
     "output_type": "execute_result"
    }
   ],
   "source": [
    "model.params"
   ]
  },
  {
   "cell_type": "code",
   "execution_count": 10,
   "id": "b5f1c041",
   "metadata": {},
   "outputs": [
    {
     "data": {
      "text/plain": [
       "{'x': 1,\n",
       " 'lane_width': 13,\n",
       " 'schema1': 10,\n",
       " 'process': 101.0,\n",
       " 'af_lane_width': 1.0833333333333333}"
      ]
     },
     "execution_count": 10,
     "metadata": {},
     "output_type": "execute_result"
    }
   ],
   "source": [
    "model.analyze(x=1, lane_width=13)"
   ]
  },
  {
   "cell_type": "code",
   "execution_count": 5,
   "id": "cb22780f",
   "metadata": {},
   "outputs": [
    {
     "data": {
      "text/plain": [
       "['a']"
      ]
     },
     "execution_count": 5,
     "metadata": {},
     "output_type": "execute_result"
    }
   ],
   "source": [
    "def params(f):\n",
    "    num_args = f.__code__.co_argcount\n",
    "    return list(f.__code__.co_varnames[:num_args])\n",
    "def f(a, *b, **c):\n",
    "    return\n",
    "\n",
    "params(f)"
   ]
  },
  {
   "cell_type": "code",
   "execution_count": 14,
   "id": "5b5a3a05",
   "metadata": {},
   "outputs": [
    {
     "data": {
      "text/plain": [
       "'b'"
      ]
     },
     "execution_count": 14,
     "metadata": {},
     "output_type": "execute_result"
    }
   ],
   "source": [
    "import inspect\n",
    "\n",
    "inspect.getfullargspec(f)[1]"
   ]
  }
 ],
 "metadata": {
  "kernelspec": {
   "display_name": "Python 3 (ipykernel)",
   "language": "python",
   "name": "python3"
  },
  "language_info": {
   "codemirror_mode": {
    "name": "ipython",
    "version": 3
   },
   "file_extension": ".py",
   "mimetype": "text/x-python",
   "name": "python",
   "nbconvert_exporter": "python",
   "pygments_lexer": "ipython3",
   "version": "3.10.6"
  }
 },
 "nbformat": 4,
 "nbformat_minor": 5
}
