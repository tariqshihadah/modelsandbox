{
 "cells": [
  {
   "cell_type": "code",
   "execution_count": 1,
   "id": "3640eff1-d205-46e9-97e2-8e10a19c1372",
   "metadata": {},
   "outputs": [],
   "source": [
    "import importlib\n",
    "import modelsandbox\n",
    "importlib.reload(modelsandbox)\n",
    "from modelsandbox import Model"
   ]
  },
  {
   "cell_type": "code",
   "execution_count": 2,
   "id": "a93e4f42-e635-4529-8875-48be1a21b249",
   "metadata": {},
   "outputs": [
    {
     "data": {
      "text/plain": [
       "<modelsandbox.model.layer.ModelLayer at 0x7f50c0ff3280>"
      ]
     },
     "execution_count": 2,
     "metadata": {},
     "output_type": "execute_result"
    }
   ],
   "source": [
    "model = Model()\n",
    "model.root.add_layer()\n",
    "model.root.add_layer().add_layer().add_layer()\n",
    "layer = model.root.add_layer().add_layer()\n",
    "layer.add_layer()\n",
    "layer.add_layer()\n",
    "model.root.add_layer()"
   ]
  },
  {
   "cell_type": "code",
   "execution_count": 3,
   "id": "d965c22e-6bb4-4ce5-a611-929459299776",
   "metadata": {},
   "outputs": [
    {
     "data": {
      "text/plain": [
       "[[], [[[]]], [[[], []]], []]"
      ]
     },
     "execution_count": 3,
     "metadata": {},
     "output_type": "execute_result"
    }
   ],
   "source": [
    "model.processors"
   ]
  },
  {
   "cell_type": "code",
   "execution_count": 6,
   "id": "9e8343d5-7941-467c-84a7-9a52b2f7a895",
   "metadata": {},
   "outputs": [
    {
     "data": {
      "text/plain": [
       "[]"
      ]
     },
     "execution_count": 6,
     "metadata": {},
     "output_type": "execute_result"
    }
   ],
   "source": [
    "model[2][0][1].processors"
   ]
  },
  {
   "cell_type": "markdown",
   "id": "f9b134bd-bfb8-46ca-88b1-d3584a512ca6",
   "metadata": {},
   "source": [
    "# Cost example"
   ]
  },
  {
   "cell_type": "code",
   "execution_count": 1,
   "id": "00f07bb7-0099-45be-80cb-5231a4e16495",
   "metadata": {},
   "outputs": [
    {
     "data": {
      "text/plain": [
       "[[<modelsandbox.model.processors.SchemaProcessor at 0x7fc4e41c3700>],\n",
       " [<modelsandbox.model.processors.FunctionProcessor at 0x7fc4cbff6b60>,\n",
       "  <modelsandbox.model.processors.FunctionProcessor at 0x7fc4cbff6980>,\n",
       "  <modelsandbox.model.processors.FunctionProcessor at 0x7fc4cbff6950>],\n",
       " [<modelsandbox.model.processors.FunctionProcessor at 0x7fc4cbff6ad0>]]"
      ]
     },
     "execution_count": 1,
     "metadata": {},
     "output_type": "execute_result"
    }
   ],
   "source": [
    "import importlib\n",
    "import modelsandbox\n",
    "importlib.reload(modelsandbox)\n",
    "from modelsandbox import Model\n",
    "\n",
    "# Initialize the model class\n",
    "model = Model()\n",
    "\n",
    "# Add a layer to the model to compute airline ticket cost\n",
    "model.root.add_layer('Compute ticket cost')\n",
    "\n",
    "# Add the process schema to the model\n",
    "model[0].add_schema({\n",
    "    \"label\": \"ticket_cost\",\n",
    "    \"params\": [\"destination\", \"airline_class\"],\n",
    "    \"actions\": [\"get\", \"get\"],\n",
    "    \"data\": {\n",
    "        \"Chicago\": {\n",
    "            \"Economy\": 220,\n",
    "            \"Business\": 450,\n",
    "            \"First\": 785\n",
    "        },\n",
    "        \"Los Angeles\": {\n",
    "            \"Economy\": 365,\n",
    "            \"Business\": 520,\n",
    "            \"First\": 965\n",
    "        }\n",
    "    }\n",
    "})\n",
    "\n",
    "# Add a layer to the model to compute additional costs\n",
    "model.root.add_layer('Compute expenses')\n",
    "\n",
    "# Add a processor to compute travel cost\n",
    "@model[1].add_wrapped(tags=['cost'])\n",
    "def travel_cost(number_of_travelers, ticket_cost):\n",
    "    return number_of_travelers * ticket_cost\n",
    "\n",
    "# Add processor to compute lodging cost\n",
    "@model[1].add_wrapped(tags=['cost'])\n",
    "def lodging_cost(number_of_travelers, nightly_cost, number_of_nights):\n",
    "    return number_of_travelers * nightly_cost * number_of_nights\n",
    "\n",
    "# Add processor to compute per diem\n",
    "@model[1].add_wrapped(tags=['cost'])\n",
    "def per_diem_cost(number_of_travelers, number_of_nights, per_diem):\n",
    "    return number_of_travelers * number_of_nights * per_diem\n",
    "\n",
    "# Add a layer to the model to aggregate costs\n",
    "model.root.add_layer('Aggregate expenses')\n",
    "\n",
    "# Add processor to compute total trip cost\n",
    "@model[2].add_wrapped()\n",
    "def total_trip_cost(travel_cost, lodging_cost, per_diem_cost, __cost):\n",
    "    return travel_cost + lodging_cost + per_diem_cost\n",
    "\n",
    "model.processors"
   ]
  },
  {
   "cell_type": "code",
   "execution_count": 2,
   "id": "8e95c00e-ca1a-4c2c-b630-d7ae32dd5fe7",
   "metadata": {},
   "outputs": [
    {
     "name": "stdout",
     "output_type": "stream",
     "text": [
      "\n",
      "None layer parameters:  ['airline_class', '__cost', 'lodging_cost', 'number_of_travelers', 'travel_cost', 'destination', 'ticket_cost', 'number_of_nights', 'per_diem', 'per_diem_cost', 'nightly_cost']\n",
      "\n",
      "Compute ticket cost component parameters:  ['airline_class', 'destination']\n",
      "\n",
      "Available parameters:  {'airline_class': 'Business', 'destination': 'Chicago', 'nightly_cost': 185, 'number_of_nights': 4, 'number_of_travelers': 3, 'per_diem': 72}\n",
      "\n",
      "Compute ticket cost layer parameters:  ['airline_class', 'destination']\n",
      "\n",
      "ticket_cost component parameters:  ['destination', 'airline_class']\n",
      "\n",
      "Available parameters:  {'airline_class': 'Business', 'destination': 'Chicago'}\n",
      "\n",
      "Produced returns:  {'ticket_cost': 450}\n",
      "\n",
      "Produced returns:  {'airline_class': 'Business', 'destination': 'Chicago', 'ticket_cost': 450}\n",
      "\n",
      "Compute expenses component parameters:  ['number_of_travelers', 'ticket_cost', 'number_of_nights', 'per_diem', 'nightly_cost']\n",
      "\n",
      "Available parameters:  {'airline_class': 'Business', 'destination': 'Chicago', 'nightly_cost': 185, 'number_of_nights': 4, 'number_of_travelers': 3, 'per_diem': 72}\n",
      "\n",
      "Compute expenses layer parameters:  ['number_of_travelers', 'ticket_cost', 'number_of_nights', 'per_diem', 'nightly_cost']\n",
      "\n",
      "travel_cost component parameters:  ['number_of_travelers', 'ticket_cost']\n",
      "\n",
      "Available parameters:  {'nightly_cost': 185, 'number_of_nights': 4, 'number_of_travelers': 3, 'per_diem': 72}\n"
     ]
    },
    {
     "ename": "TypeError",
     "evalue": "travel_cost() missing 1 required positional argument: 'ticket_cost'",
     "output_type": "error",
     "traceback": [
      "\u001b[0;31m---------------------------------------------------------------------------\u001b[0m",
      "\u001b[0;31mTypeError\u001b[0m                                 Traceback (most recent call last)",
      "Cell \u001b[0;32mIn[2], line 1\u001b[0m\n\u001b[0;32m----> 1\u001b[0m \u001b[43mmodel\u001b[49m\u001b[38;5;241;43m.\u001b[39;49m\u001b[43manalyze\u001b[49m\u001b[43m(\u001b[49m\n\u001b[1;32m      2\u001b[0m \u001b[43m    \u001b[49m\u001b[43mairline_class\u001b[49m\u001b[38;5;241;43m=\u001b[39;49m\u001b[38;5;124;43m\"\u001b[39;49m\u001b[38;5;124;43mBusiness\u001b[39;49m\u001b[38;5;124;43m\"\u001b[39;49m\u001b[43m,\u001b[49m\n\u001b[1;32m      3\u001b[0m \u001b[43m    \u001b[49m\u001b[43mdestination\u001b[49m\u001b[38;5;241;43m=\u001b[39;49m\u001b[38;5;124;43m\"\u001b[39;49m\u001b[38;5;124;43mChicago\u001b[39;49m\u001b[38;5;124;43m\"\u001b[39;49m\u001b[43m,\u001b[49m\n\u001b[1;32m      4\u001b[0m \u001b[43m    \u001b[49m\u001b[43mnightly_cost\u001b[49m\u001b[38;5;241;43m=\u001b[39;49m\u001b[38;5;241;43m185\u001b[39;49m\u001b[43m,\u001b[49m\n\u001b[1;32m      5\u001b[0m \u001b[43m    \u001b[49m\u001b[43mnumber_of_nights\u001b[49m\u001b[38;5;241;43m=\u001b[39;49m\u001b[38;5;241;43m4\u001b[39;49m\u001b[43m,\u001b[49m\n\u001b[1;32m      6\u001b[0m \u001b[43m    \u001b[49m\u001b[43mnumber_of_travelers\u001b[49m\u001b[38;5;241;43m=\u001b[39;49m\u001b[38;5;241;43m3\u001b[39;49m\u001b[43m,\u001b[49m\n\u001b[1;32m      7\u001b[0m \u001b[43m    \u001b[49m\u001b[43mper_diem\u001b[49m\u001b[38;5;241;43m=\u001b[39;49m\u001b[38;5;241;43m72\u001b[39;49m\u001b[43m,\u001b[49m\n\u001b[1;32m      8\u001b[0m \u001b[43m)\u001b[49m\n",
      "File \u001b[0;32m~/code/modelsandbox/modelsandbox/model/model.py:83\u001b[0m, in \u001b[0;36mModel.analyze\u001b[0;34m(self, **params)\u001b[0m\n\u001b[1;32m     79\u001b[0m \u001b[38;5;28;01mdef\u001b[39;00m \u001b[38;5;21manalyze\u001b[39m(\u001b[38;5;28mself\u001b[39m, \u001b[38;5;241m*\u001b[39m\u001b[38;5;241m*\u001b[39mparams):\n\u001b[1;32m     80\u001b[0m \u001b[38;5;250m    \u001b[39m\u001b[38;5;124;03m\"\"\"\u001b[39;00m\n\u001b[1;32m     81\u001b[0m \u001b[38;5;124;03m    Execute the model.\u001b[39;00m\n\u001b[1;32m     82\u001b[0m \u001b[38;5;124;03m    \"\"\"\u001b[39;00m\n\u001b[0;32m---> 83\u001b[0m     \u001b[38;5;28;01mreturn\u001b[39;00m \u001b[38;5;28;43mself\u001b[39;49m\u001b[38;5;241;43m.\u001b[39;49m\u001b[43m_root\u001b[49m\u001b[38;5;241;43m.\u001b[39;49m\u001b[43manalyze\u001b[49m\u001b[43m(\u001b[49m\u001b[38;5;241;43m*\u001b[39;49m\u001b[38;5;241;43m*\u001b[39;49m\u001b[43mparams\u001b[49m\u001b[43m)\u001b[49m\n",
      "File \u001b[0;32m~/code/modelsandbox/modelsandbox/model/layer.py:309\u001b[0m, in \u001b[0;36mModelLayer.analyze\u001b[0;34m(self, **params)\u001b[0m\n\u001b[1;32m    307\u001b[0m \u001b[38;5;28mprint\u001b[39m(\u001b[38;5;124mf\u001b[39m\u001b[38;5;124m'\u001b[39m\u001b[38;5;130;01m\\n\u001b[39;00m\u001b[38;5;124mAvailable parameters: \u001b[39m\u001b[38;5;124m'\u001b[39m, params)\n\u001b[1;32m    308\u001b[0m params_i \u001b[38;5;241m=\u001b[39m {k: v \u001b[38;5;28;01mfor\u001b[39;00m k, v \u001b[38;5;129;01min\u001b[39;00m params\u001b[38;5;241m.\u001b[39mitems() \u001b[38;5;28;01mif\u001b[39;00m k \u001b[38;5;129;01min\u001b[39;00m component\u001b[38;5;241m.\u001b[39mparams}\n\u001b[0;32m--> 309\u001b[0m returns_i \u001b[38;5;241m=\u001b[39m \u001b[43mcomponent\u001b[49m\u001b[38;5;241;43m.\u001b[39;49m\u001b[43manalyze\u001b[49m\u001b[43m(\u001b[49m\u001b[38;5;241;43m*\u001b[39;49m\u001b[38;5;241;43m*\u001b[39;49m\u001b[43mparams_i\u001b[49m\u001b[43m)\u001b[49m\n\u001b[1;32m    310\u001b[0m returns\u001b[38;5;241m.\u001b[39mupdate(returns_i)\n\u001b[1;32m    311\u001b[0m \u001b[38;5;28mprint\u001b[39m(\u001b[38;5;124mf\u001b[39m\u001b[38;5;124m'\u001b[39m\u001b[38;5;130;01m\\n\u001b[39;00m\u001b[38;5;124mProduced returns: \u001b[39m\u001b[38;5;124m'\u001b[39m, returns_i)\n",
      "File \u001b[0;32m~/code/modelsandbox/modelsandbox/model/layer.py:309\u001b[0m, in \u001b[0;36mModelLayer.analyze\u001b[0;34m(self, **params)\u001b[0m\n\u001b[1;32m    307\u001b[0m \u001b[38;5;28mprint\u001b[39m(\u001b[38;5;124mf\u001b[39m\u001b[38;5;124m'\u001b[39m\u001b[38;5;130;01m\\n\u001b[39;00m\u001b[38;5;124mAvailable parameters: \u001b[39m\u001b[38;5;124m'\u001b[39m, params)\n\u001b[1;32m    308\u001b[0m params_i \u001b[38;5;241m=\u001b[39m {k: v \u001b[38;5;28;01mfor\u001b[39;00m k, v \u001b[38;5;129;01min\u001b[39;00m params\u001b[38;5;241m.\u001b[39mitems() \u001b[38;5;28;01mif\u001b[39;00m k \u001b[38;5;129;01min\u001b[39;00m component\u001b[38;5;241m.\u001b[39mparams}\n\u001b[0;32m--> 309\u001b[0m returns_i \u001b[38;5;241m=\u001b[39m \u001b[43mcomponent\u001b[49m\u001b[38;5;241;43m.\u001b[39;49m\u001b[43manalyze\u001b[49m\u001b[43m(\u001b[49m\u001b[38;5;241;43m*\u001b[39;49m\u001b[38;5;241;43m*\u001b[39;49m\u001b[43mparams_i\u001b[49m\u001b[43m)\u001b[49m\n\u001b[1;32m    310\u001b[0m returns\u001b[38;5;241m.\u001b[39mupdate(returns_i)\n\u001b[1;32m    311\u001b[0m \u001b[38;5;28mprint\u001b[39m(\u001b[38;5;124mf\u001b[39m\u001b[38;5;124m'\u001b[39m\u001b[38;5;130;01m\\n\u001b[39;00m\u001b[38;5;124mProduced returns: \u001b[39m\u001b[38;5;124m'\u001b[39m, returns_i)\n",
      "File \u001b[0;32m~/code/modelsandbox/modelsandbox/model/processors.py:109\u001b[0m, in \u001b[0;36mFunctionProcessor.analyze\u001b[0;34m(self, **params)\u001b[0m\n\u001b[1;32m    108\u001b[0m \u001b[38;5;28;01mdef\u001b[39;00m \u001b[38;5;21manalyze\u001b[39m(\u001b[38;5;28mself\u001b[39m, \u001b[38;5;241m*\u001b[39m\u001b[38;5;241m*\u001b[39mparams):\n\u001b[0;32m--> 109\u001b[0m     \u001b[38;5;28;01mreturn\u001b[39;00m {\u001b[38;5;28mself\u001b[39m\u001b[38;5;241m.\u001b[39m_label: \u001b[38;5;28;43mself\u001b[39;49m\u001b[38;5;241;43m.\u001b[39;49m\u001b[43m_callable_\u001b[49m\u001b[43m(\u001b[49m\u001b[38;5;241;43m*\u001b[39;49m\u001b[38;5;241;43m*\u001b[39;49m\u001b[43mparams\u001b[49m\u001b[43m)\u001b[49m}\n",
      "\u001b[0;31mTypeError\u001b[0m: travel_cost() missing 1 required positional argument: 'ticket_cost'"
     ]
    }
   ],
   "source": [
    "model.analyze(\n",
    "    airline_class=\"Business\",\n",
    "    destination=\"Chicago\",\n",
    "    nightly_cost=185,\n",
    "    number_of_nights=4,\n",
    "    number_of_travelers=3,\n",
    "    per_diem=72,\n",
    ")"
   ]
  },
  {
   "cell_type": "markdown",
   "id": "676a253a-10db-4fe2-9634-1c531daa15c4",
   "metadata": {},
   "source": [
    "# Scratch"
   ]
  },
  {
   "cell_type": "code",
   "execution_count": 1,
   "id": "1c829f1d-5419-4b1a-b42d-bf98f85129fd",
   "metadata": {},
   "outputs": [],
   "source": [
    "from example import model"
   ]
  },
  {
   "cell_type": "code",
   "execution_count": 4,
   "id": "b1c7f912-bb76-4966-998f-ec3979efaf1f",
   "metadata": {},
   "outputs": [
    {
     "data": {
      "text/plain": [
       "{'airline_class': 'Business',\n",
       " 'destination': 'Chicago',\n",
       " 'nightly_cost': 185,\n",
       " 'number_of_nights': 4,\n",
       " 'number_of_travelers': 3,\n",
       " 'per_diem': 72,\n",
       " 'ticket_cost': 450,\n",
       " 'travel_cost': 1350,\n",
       " 'lodging_cost': 2220,\n",
       " 'per_diem_cost': 864,\n",
       " 'total_trip_cost': 4434}"
      ]
     },
     "execution_count": 4,
     "metadata": {},
     "output_type": "execute_result"
    }
   ],
   "source": [
    "model.analyze(\n",
    "    airline_class=\"Business\",\n",
    "    destination=\"Chicago\",\n",
    "    nightly_cost=185,\n",
    "    number_of_nights=4,\n",
    "    number_of_travelers=3,\n",
    "    per_diem=72,\n",
    "    ticket_cost=500\n",
    ")"
   ]
  },
  {
   "cell_type": "code",
   "execution_count": 6,
   "id": "740b1f87-61a9-4406-8698-d841f7eaa011",
   "metadata": {},
   "outputs": [
    {
     "data": {
      "text/plain": [
       "['airline_class',\n",
       " 'destination',\n",
       " 'nightly_cost',\n",
       " 'number_of_nights',\n",
       " 'number_of_travelers',\n",
       " 'per_diem']"
      ]
     },
     "execution_count": 6,
     "metadata": {},
     "output_type": "execute_result"
    }
   ],
   "source": [
    "model.parameters"
   ]
  },
  {
   "cell_type": "code",
   "execution_count": 1,
   "id": "8288bbf1-9a90-4004-8f95-d4557b1fd9bf",
   "metadata": {},
   "outputs": [],
   "source": [
    "from sample_model import model"
   ]
  },
  {
   "cell_type": "code",
   "execution_count": 2,
   "id": "655db299-aacf-4933-84c5-4e82f0e3ae67",
   "metadata": {},
   "outputs": [
    {
     "data": {
      "text/plain": [
       "{'aadt': 580,\n",
       " 'curve_length': 0.2,\n",
       " 'curve_radius': 800,\n",
       " 'lane_width': 11,\n",
       " 'length': 0.6,\n",
       " 'observed_kabco': 3.4,\n",
       " 'shoulder_type': 'gravel',\n",
       " 'shoulder_width': 4,\n",
       " 'spiral': 'both',\n",
       " 'n_kabco': 0.9297629371556028,\n",
       " 'overdispersion': 0.3933333333333333,\n",
       " 'af_lane_width': 1.0145,\n",
       " 'af_shoulder_width': 1.0346250000000001,\n",
       " 'af_shoulder_type': 1.01,\n",
       " 'af_horizontal_curve': 1.2846774193548387,\n",
       " 'af_total': 1.3619165077968751,\n",
       " 'predicted_kabco': 1.266259492449924,\n",
       " 'expected_kabco': 1.9756661526181518}"
      ]
     },
     "execution_count": 2,
     "metadata": {},
     "output_type": "execute_result"
    }
   ],
   "source": [
    "model.analyze(\n",
    "    aadt = 580,\n",
    "    curve_length = 0.2,\n",
    "    curve_radius = 800,\n",
    "    lane_width = 11,\n",
    "    length = 0.6,\n",
    "    observed_kabco = 3.4,\n",
    "    shoulder_type = 'gravel',\n",
    "    shoulder_width = 4,\n",
    "    spiral = 'both'\n",
    ")"
   ]
  }
 ],
 "metadata": {
  "kernelspec": {
   "display_name": "Python 3 (ipykernel)",
   "language": "python",
   "name": "python3"
  },
  "language_info": {
   "codemirror_mode": {
    "name": "ipython",
    "version": 3
   },
   "file_extension": ".py",
   "mimetype": "text/x-python",
   "name": "python",
   "nbconvert_exporter": "python",
   "pygments_lexer": "ipython3",
   "version": "3.10.6"
  }
 },
 "nbformat": 4,
 "nbformat_minor": 5
}
