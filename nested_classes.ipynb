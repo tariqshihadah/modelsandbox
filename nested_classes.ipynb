{
 "cells": [
  {
   "cell_type": "code",
   "execution_count": 107,
   "metadata": {},
   "outputs": [],
   "source": [
    "from itertools import count\n",
    "import inspect\n",
    "\n",
    "\n",
    "class ModelComponent(object):\n",
    "    pass\n",
    "\n",
    "\n",
    "class OrderedMixin(object):\n",
    "\n",
    "    _ids = count(0)\n",
    "\n",
    "    def __init__(self, *args, **kwargs):\n",
    "        self._order = next(self._ids)\n",
    "        super().__init__(*args, **kwargs)\n",
    "\n",
    "    @property\n",
    "    def order(self):\n",
    "        try:\n",
    "            return self._order\n",
    "        except AttributeError:\n",
    "            return -1\n",
    "\n",
    "\n",
    "class Method(ModelComponent):\n",
    "\n",
    "    def __init__(self, func: callable=None, label: str=None, *args, **kwargs) -> None:\n",
    "        self.func = func\n",
    "        super().__init__(*args, **kwargs)\n",
    "\n",
    "    def __call__(self, *args, **params):\n",
    "        # Check if being used as a decorator\n",
    "        if len(args) == 1 and callable(args[0]) and self.func is None:\n",
    "            self.func = args[0]\n",
    "            return self\n",
    "        # Assume being used as a function\n",
    "        else:\n",
    "            return self.analyze(**params)\n",
    "\n",
    "    def analyze(self, **params):\n",
    "        return self.func(**params)\n",
    "    \n",
    "\n",
    "class Schema(ModelComponent):\n",
    "\n",
    "    def __init__(self, schema: str=None, *args, **kwargs):\n",
    "        self.schema = schema\n",
    "\n",
    "    def __call__(self, **params):\n",
    "        self.analyze(**params)\n",
    "\n",
    "    def analyze(self, **params):\n",
    "        raise NotImplementedError(\"Subclasses must implement analyze method\")\n",
    "\n",
    "\n",
    "class Sequence(ModelComponent, OrderedMixin):\n",
    "\n",
    "    def __init__(self):\n",
    "        pass\n",
    "\n",
    "    def __call__(self, *args, **params):\n",
    "        # Check if being used as a decorator\n",
    "        if len(args) == 1 and isinstance(args[0], type):\n",
    "            self.func = args[0]\n",
    "            return self\n",
    "        # Assume being used as a function\n",
    "        else:\n",
    "            return self.analyze(**params)\n",
    "\n",
    "\n",
    "    @property\n",
    "    def members(self):\n",
    "        return [m for m in self.__dir__ if issubclass(m, ModelComponent)]\n",
    "\n",
    "    def analyze(self, **params):\n",
    "        raise NotImplementedError(\"Subclasses must implement analyze method\")"
   ]
  },
  {
   "cell_type": "code",
   "execution_count": 108,
   "metadata": {},
   "outputs": [],
   "source": [
    "def ordered(order=None):\n",
    "    def _decorator(cls):\n",
    "        if not order is None:\n",
    "            cls._order = order\n",
    "        return cls\n",
    "    return _decorator\n",
    "\n",
    "def processor(*args, **kwargs):\n",
    "    def _decorator(func):\n",
    "        return Method(*args, **kwargs)\n",
    "    return _decorator"
   ]
  },
  {
   "cell_type": "code",
   "execution_count": 119,
   "metadata": {},
   "outputs": [
    {
     "data": {
      "text/plain": [
       "True"
      ]
     },
     "execution_count": 119,
     "metadata": {},
     "output_type": "execute_result"
    }
   ],
   "source": [
    "def x():\n",
    "    return Sequence\n",
    "\n",
    "class Test(x()):\n",
    "    pass\n",
    "\n",
    "issubclass(Test, Sequence)"
   ]
  },
  {
   "cell_type": "code",
   "execution_count": 109,
   "metadata": {},
   "outputs": [],
   "source": [
    "class Model(Sequence):\n",
    "\n",
    "    @Container\n",
    "    class Spfs(Sequence):\n",
    "        order = 0\n",
    "\n",
    "        @Method\n",
    "        def test(a):\n",
    "            return a\n",
    "        \n",
    "        @Container\n",
    "        class SpfParams(Sequence):\n",
    "            order = 0\n",
    "            a = 1\n",
    "            b = 2\n",
    "            spf_params = Schema('spf.json')\n",
    "\n",
    "        @Container\n",
    "        class SpfCalculations(Sequence):\n",
    "            order = 1\n",
    "            \n",
    "            @Method\n",
    "            def n_kabco(a, b):\n",
    "                return a + b\n",
    "\n",
    "            @Method\n",
    "            def n_kabc(a, b):\n",
    "                return a + b"
   ]
  },
  {
   "cell_type": "code",
   "execution_count": 115,
   "metadata": {},
   "outputs": [
    {
     "data": {
      "text/plain": [
       "__main__.Method"
      ]
     },
     "execution_count": 115,
     "metadata": {},
     "output_type": "execute_result"
    }
   ],
   "source": [
    "class SpfCalculations(Sequence):\n",
    "    order = 1\n",
    "    \n",
    "    @Method\n",
    "    def n_kabco(a, b):\n",
    "        return a + b\n",
    "    @Method\n",
    "    def n_kabc(a, b):\n",
    "        return a + b\n",
    "    \n",
    "m = SpfCalculations()\n",
    "type(m.n_kabco)"
   ]
  },
  {
   "cell_type": "code",
   "execution_count": 116,
   "metadata": {},
   "outputs": [
    {
     "data": {
      "text/plain": [
       "[]"
      ]
     },
     "execution_count": 116,
     "metadata": {},
     "output_type": "execute_result"
    }
   ],
   "source": [
    "m.members"
   ]
  },
  {
   "cell_type": "code",
   "execution_count": 111,
   "metadata": {},
   "outputs": [
    {
     "data": {
      "text/plain": [
       "[]"
      ]
     },
     "execution_count": 111,
     "metadata": {},
     "output_type": "execute_result"
    }
   ],
   "source": [
    "m = Model()\n",
    "m.members"
   ]
  },
  {
   "cell_type": "code",
   "execution_count": 112,
   "metadata": {},
   "outputs": [
    {
     "data": {
      "text/plain": [
       "{}"
      ]
     },
     "execution_count": 112,
     "metadata": {},
     "output_type": "execute_result"
    }
   ],
   "source": [
    "m.__dict__"
   ]
  }
 ],
 "metadata": {
  "kernelspec": {
   "display_name": "venv",
   "language": "python",
   "name": "python3"
  },
  "language_info": {
   "codemirror_mode": {
    "name": "ipython",
    "version": 3
   },
   "file_extension": ".py",
   "mimetype": "text/x-python",
   "name": "python",
   "nbconvert_exporter": "python",
   "pygments_lexer": "ipython3",
   "version": "3.10.6"
  }
 },
 "nbformat": 4,
 "nbformat_minor": 2
}
