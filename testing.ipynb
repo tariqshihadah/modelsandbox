{
 "cells": [
  {
   "cell_type": "code",
   "execution_count": 1,
   "id": "8288bbf1-9a90-4004-8f95-d4557b1fd9bf",
   "metadata": {},
   "outputs": [],
   "source": [
    "from sample_model import model"
   ]
  },
  {
   "cell_type": "code",
   "execution_count": 2,
   "id": "655db299-aacf-4933-84c5-4e82f0e3ae67",
   "metadata": {},
   "outputs": [
    {
     "data": {
      "text/plain": [
       "{'aadt': 580,\n",
       " 'curve_length': 0.2,\n",
       " 'curve_radius': 800,\n",
       " 'lane_width': 11,\n",
       " 'length': 0.6,\n",
       " 'observed_kabco': 3.4,\n",
       " 'shoulder_type': 'gravel',\n",
       " 'shoulder_width': 4,\n",
       " 'spiral': 'both',\n",
       " 'n_kabco': 0.9297629371556028,\n",
       " 'overdispersion': 0.3933333333333333,\n",
       " 'af_lane_width': 1.0145,\n",
       " 'af_shoulder_width': 1.0346250000000001,\n",
       " 'af_shoulder_type': 1.01,\n",
       " 'af_horizontal_curve': 1.2846774193548387,\n",
       " 'af_total': 1.3619165077968751,\n",
       " 'predicted_kabco': 1.266259492449924,\n",
       " 'expected_kabco': 1.9756661526181518}"
      ]
     },
     "execution_count": 2,
     "metadata": {},
     "output_type": "execute_result"
    }
   ],
   "source": [
    "model.analyze(\n",
    "    aadt = 580,\n",
    "    curve_length = 0.2,\n",
    "    curve_radius = 800,\n",
    "    lane_width = 11,\n",
    "    length = 0.6,\n",
    "    observed_kabco = 3.4,\n",
    "    shoulder_type = 'gravel',\n",
    "    shoulder_width = 4,\n",
    "    spiral = 'both'\n",
    ")"
   ]
  }
 ],
 "metadata": {
  "kernelspec": {
   "display_name": "Python 3 (ipykernel)",
   "language": "python",
   "name": "python3"
  },
  "language_info": {
   "codemirror_mode": {
    "name": "ipython",
    "version": 3
   },
   "file_extension": ".py",
   "mimetype": "text/x-python",
   "name": "python",
   "nbconvert_exporter": "python",
   "pygments_lexer": "ipython3",
   "version": "3.10.6"
  }
 },
 "nbformat": 4,
 "nbformat_minor": 5
}
