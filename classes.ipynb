{
 "cells": [
  {
   "cell_type": "code",
   "execution_count": 3,
   "metadata": {},
   "outputs": [],
   "source": [
    "from modelsandbox.model.containers import Container\n",
    "from modelsandbox.model.processors import Function, LogicSchema\n",
    "\n",
    "import math\n",
    "\n",
    "class CPM(Container):\n",
    "    \"\"\"\n",
    "    Crash prediction model for rural two-lane roads based on HSM chapter 10.\n",
    "    \"\"\"\n",
    "\n",
    "    class SPFs(Container, order=0):\n",
    "        \"\"\"\n",
    "        Safety performance functions for rural two-lane roads.\n",
    "        \"\"\"\n",
    "\n",
    "        test_schema = LogicSchema({\n",
    "            \"label\": \"test_schema\",\n",
    "            \"params\": [\"lookup\"],\n",
    "            \"actions\": [\"lte\"],\n",
    "            \"data\": {\n",
    "                0: {\"a\": 1, \"b\": 2},\n",
    "                1: {\"a\": 3, \"b\": 4},\n",
    "                2: {\"a\": 5, \"b\": 6},\n",
    "                999: {\"a\": 7, \"b\": 8}\n",
    "            }\n",
    "        })\n",
    "\n",
    "        @Function(order=0).wrapper\n",
    "        def test(a, b):\n",
    "            return a + b\n",
    "\n",
    "        @Function(order=0).wrapper\n",
    "        def n_kabco(aadt, length):\n",
    "            \"\"\"\n",
    "            Based on HSM Equation 10-7.\n",
    "            \"\"\"\n",
    "            # Compute number of crashes\n",
    "            n = aadt * length * 365 * 10E-6 * math.exp(-0.312)\n",
    "            return n\n",
    "\n",
    "        @Function(order=0).wrapper\n",
    "        def overdispersion(length):\n",
    "            # Compute overdispersion\n",
    "            k = 0.236 / length\n",
    "            return k\n",
    "\n",
    "    class AFs(Container, order=1):\n",
    "        \"\"\"\n",
    "        Adjustment factors for rural two-lane roads.\n",
    "        \"\"\"\n",
    "        \n",
    "        @Function(hidden=True).wrapper\n",
    "        def af_shoulder_width(shoulder_width):\n",
    "            return 1 / (shoulder_width / 8)\n",
    "        \n",
    "        @Function(hidden=True).wrapper\n",
    "        def af_lane_width(lane_width):\n",
    "            return 1 / (lane_width / 12)\n",
    "        \n",
    "        @Function(order=99).wrapper\n",
    "        def af_total(af_shoulder_width, af_lane_width):\n",
    "            return af_shoulder_width * af_lane_width\n",
    "        \n",
    "    class Predictions(Container, order=2):\n",
    "        \"\"\"\n",
    "        Predictions for rural two-lane roads.\n",
    "        \"\"\"\n",
    "        \n",
    "        @Function(order=0).wrapper\n",
    "        def predict_crashes(n_kabco, af_total):\n",
    "            # Compute predicted crashes\n",
    "            return n_kabco * af_total\n",
    "        \n",
    "cpm = CPM()"
   ]
  },
  {
   "cell_type": "code",
   "execution_count": 4,
   "metadata": {},
   "outputs": [],
   "source": [
    "cpm.processors[0][3].label"
   ]
  },
  {
   "cell_type": "code",
   "execution_count": null,
   "metadata": {},
   "outputs": [],
   "source": [
    "cpm = CPM()\n",
    "cpm.analyze(a=1, b=2, aadt=1000, length=10, shoulder_width=6, lane_width=11.5)"
   ]
  },
  {
   "cell_type": "code",
   "execution_count": null,
   "metadata": {},
   "outputs": [],
   "source": [
    "class Test:\n",
    "\n",
    "    x = 1\n",
    "    y = 2\n",
    "    Function(lambda z: z + 1)\n",
    "\n",
    "t = Test()\n",
    "import inspect\n",
    "[m for m in inspect.getmembers(t) if m[0][:2] != \"__\"]"
   ]
  }
 ],
 "metadata": {
  "kernelspec": {
   "display_name": "venv",
   "language": "python",
   "name": "python3"
  },
  "language_info": {
   "codemirror_mode": {
    "name": "ipython",
    "version": 3
   },
   "file_extension": ".py",
   "mimetype": "text/x-python",
   "name": "python",
   "nbconvert_exporter": "python",
   "pygments_lexer": "ipython3",
   "version": "3.10.6"
  }
 },
 "nbformat": 4,
 "nbformat_minor": 2
}
