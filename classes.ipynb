{
 "cells": [
  {
   "cell_type": "code",
   "execution_count": 32,
   "metadata": {},
   "outputs": [],
   "source": [
    "import inspect\n",
    "\n",
    "\n",
    "class Ordered(object):\n",
    "\n",
    "    # Default order value\n",
    "    _order = 0\n",
    "\n",
    "    def __init_subclass__(cls, *args, **kwargs) -> None:\n",
    "        # Set class order value\n",
    "        cls._order = kwargs.pop('order', cls._order)\n",
    "        # Call super\n",
    "        super().__init_subclass__(*args, **kwargs)\n",
    "\n",
    "    @property\n",
    "    def order(self):\n",
    "        return self._order\n",
    "    \n",
    "    @order.setter\n",
    "    def order(self, value):\n",
    "        if isinstance(value, int):\n",
    "            self._order = value\n",
    "        else:\n",
    "            raise TypeError(\"Value must be of type int\")\n",
    "\n",
    "\n",
    "class Container(Ordered):\n",
    "    \n",
    "    def __init__(self, *args, **kwargs) -> None:\n",
    "        # Delegate to super\n",
    "        super().__init__(*args, **kwargs)\n",
    "        # Initialize members\n",
    "        self._init_members()\n",
    "\n",
    "    def _init_members(self):\n",
    "        # Initialize inner classes as members\n",
    "        members = {}\n",
    "        for k, v in self.__class__.__dict__.items():\n",
    "            if inspect.isclass(v):\n",
    "                if issubclass(v, Ordered):\n",
    "                    members[k] = v()\n",
    "        # Sort members by order\n",
    "        members = dict(sorted(members.items(), key=lambda x: x[1].order))\n",
    "        self._members = members\n",
    "\n",
    "    @property\n",
    "    def members(self):\n",
    "        return self._members\n",
    "\n",
    "class Processor(Ordered):\n",
    "    \n",
    "    def __init__(self, *args, **kwargs) -> None:\n",
    "        # Delegate to super\n",
    "        super().__init__(*args, **kwargs)\n",
    "\n",
    "    def __call__(self, *args, **kwargs):\n",
    "        pass"
   ]
  },
  {
   "cell_type": "code",
   "execution_count": 44,
   "metadata": {},
   "outputs": [
    {
     "data": {
      "text/plain": [
       "{'AFs': <__main__.CPM.AFs at 0x7f4a98621e10>,\n",
       " 'SPFs': <__main__.CPM.SPFs at 0x7f4a986209a0>}"
      ]
     },
     "execution_count": 44,
     "metadata": {},
     "output_type": "execute_result"
    }
   ],
   "source": [
    "cpm = CPM()\n",
    "cpm.members"
   ]
  },
  {
   "cell_type": "code",
   "execution_count": 43,
   "metadata": {},
   "outputs": [],
   "source": [
    "import math\n",
    "\n",
    "class CPM(Container):\n",
    "    \"\"\"\n",
    "    Crash prediction model for rural two-lane roads based on HSM chapter 10.\n",
    "    \"\"\"\n",
    "\n",
    "    class SPFs(Container, order=0):\n",
    "        \"\"\"\n",
    "        Safety performance functions for rural two-lane roads.\n",
    "        \"\"\"\n",
    "\n",
    "        #@Processor(pre=Processor('spf.json'))\n",
    "        def n_kabco(aadt, length):\n",
    "            \"\"\"\n",
    "            Based on HSM Equation 10-7.\n",
    "            \"\"\"\n",
    "            # Compute number of crashes\n",
    "            n = aadt * length * 365 * 10E-6 * math.exp(-0.312)\n",
    "            return n\n",
    "\n",
    "        #@Processor()\n",
    "        def overdispersion(length):\n",
    "            # Compute overdispersion\n",
    "            k = 0.236 / length\n",
    "            return k\n",
    "\n",
    "    class AFs(Container, order=1):\n",
    "        \"\"\"\n",
    "        Adjustment factors for rural two-lane roads.\n",
    "        \"\"\"\n",
    "        pass"
   ]
  },
  {
   "cell_type": "code",
   "execution_count": null,
   "metadata": {},
   "outputs": [],
   "source": []
  }
 ],
 "metadata": {
  "kernelspec": {
   "display_name": "venv",
   "language": "python",
   "name": "python3"
  },
  "language_info": {
   "codemirror_mode": {
    "name": "ipython",
    "version": 3
   },
   "file_extension": ".py",
   "mimetype": "text/x-python",
   "name": "python",
   "nbconvert_exporter": "python",
   "pygments_lexer": "ipython3",
   "version": "3.10.6"
  }
 },
 "nbformat": 4,
 "nbformat_minor": 2
}
